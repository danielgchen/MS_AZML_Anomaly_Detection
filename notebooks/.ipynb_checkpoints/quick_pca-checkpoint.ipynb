{
 "cells": [
  {
   "cell_type": "code",
   "execution_count": 1,
   "id": "instant-indicator",
   "metadata": {},
   "outputs": [],
   "source": [
    "# import\n",
    "import pandas as pd\n",
    "import numpy as np\n",
    "import seaborn as sns\n",
    "import matplotlib.pyplot as plt\n",
    "import random\n",
    "from sklearn.ensemble import IsolationForest\n",
    "from sklearn.model_selection import train_test_split\n",
    "from sklearn.preprocessing import LabelEncoder\n",
    "# set defaults\n",
    "plt.rcParams['figure.dpi'] = 80\n"
   ]
  },
  {
   "cell_type": "code",
   "execution_count": 2,
   "id": "chemical-archive",
   "metadata": {},
   "outputs": [
    {
     "data": {
      "text/html": [
       "<div>\n",
       "<style scoped>\n",
       "    .dataframe tbody tr th:only-of-type {\n",
       "        vertical-align: middle;\n",
       "    }\n",
       "\n",
       "    .dataframe tbody tr th {\n",
       "        vertical-align: top;\n",
       "    }\n",
       "\n",
       "    .dataframe thead th {\n",
       "        text-align: right;\n",
       "    }\n",
       "</style>\n",
       "<table border=\"1\" class=\"dataframe\">\n",
       "  <thead>\n",
       "    <tr style=\"text-align: right;\">\n",
       "      <th></th>\n",
       "      <th>0</th>\n",
       "      <th>1</th>\n",
       "      <th>2</th>\n",
       "      <th>3</th>\n",
       "      <th>4</th>\n",
       "      <th>5</th>\n",
       "      <th>6</th>\n",
       "      <th>7</th>\n",
       "      <th>8</th>\n",
       "      <th>9</th>\n",
       "      <th>...</th>\n",
       "      <th>32</th>\n",
       "      <th>33</th>\n",
       "      <th>34</th>\n",
       "      <th>35</th>\n",
       "      <th>36</th>\n",
       "      <th>37</th>\n",
       "      <th>38</th>\n",
       "      <th>39</th>\n",
       "      <th>40</th>\n",
       "      <th>41</th>\n",
       "    </tr>\n",
       "  </thead>\n",
       "  <tbody>\n",
       "    <tr>\n",
       "      <th>22650</th>\n",
       "      <td>1</td>\n",
       "      <td>tcp</td>\n",
       "      <td>smtp</td>\n",
       "      <td>SF</td>\n",
       "      <td>1022</td>\n",
       "      <td>389</td>\n",
       "      <td>0</td>\n",
       "      <td>0</td>\n",
       "      <td>0</td>\n",
       "      <td>0</td>\n",
       "      <td>...</td>\n",
       "      <td>175</td>\n",
       "      <td>0.64</td>\n",
       "      <td>0.02</td>\n",
       "      <td>0.01</td>\n",
       "      <td>0.02</td>\n",
       "      <td>0.0</td>\n",
       "      <td>0.0</td>\n",
       "      <td>0.0</td>\n",
       "      <td>0.0</td>\n",
       "      <td>normal.</td>\n",
       "    </tr>\n",
       "    <tr>\n",
       "      <th>5765</th>\n",
       "      <td>0</td>\n",
       "      <td>tcp</td>\n",
       "      <td>http</td>\n",
       "      <td>SF</td>\n",
       "      <td>376</td>\n",
       "      <td>285</td>\n",
       "      <td>0</td>\n",
       "      <td>0</td>\n",
       "      <td>0</td>\n",
       "      <td>0</td>\n",
       "      <td>...</td>\n",
       "      <td>255</td>\n",
       "      <td>1.00</td>\n",
       "      <td>0.00</td>\n",
       "      <td>0.00</td>\n",
       "      <td>0.00</td>\n",
       "      <td>0.0</td>\n",
       "      <td>0.0</td>\n",
       "      <td>0.0</td>\n",
       "      <td>0.0</td>\n",
       "      <td>normal.</td>\n",
       "    </tr>\n",
       "    <tr>\n",
       "      <th>241826</th>\n",
       "      <td>0</td>\n",
       "      <td>icmp</td>\n",
       "      <td>ecr_i</td>\n",
       "      <td>SF</td>\n",
       "      <td>1032</td>\n",
       "      <td>0</td>\n",
       "      <td>0</td>\n",
       "      <td>0</td>\n",
       "      <td>0</td>\n",
       "      <td>0</td>\n",
       "      <td>...</td>\n",
       "      <td>255</td>\n",
       "      <td>1.00</td>\n",
       "      <td>0.00</td>\n",
       "      <td>1.00</td>\n",
       "      <td>0.00</td>\n",
       "      <td>0.0</td>\n",
       "      <td>0.0</td>\n",
       "      <td>0.0</td>\n",
       "      <td>0.0</td>\n",
       "      <td>smurf.</td>\n",
       "    </tr>\n",
       "    <tr>\n",
       "      <th>292391</th>\n",
       "      <td>0</td>\n",
       "      <td>icmp</td>\n",
       "      <td>ecr_i</td>\n",
       "      <td>SF</td>\n",
       "      <td>1032</td>\n",
       "      <td>0</td>\n",
       "      <td>0</td>\n",
       "      <td>0</td>\n",
       "      <td>0</td>\n",
       "      <td>0</td>\n",
       "      <td>...</td>\n",
       "      <td>255</td>\n",
       "      <td>1.00</td>\n",
       "      <td>0.00</td>\n",
       "      <td>1.00</td>\n",
       "      <td>0.00</td>\n",
       "      <td>0.0</td>\n",
       "      <td>0.0</td>\n",
       "      <td>0.0</td>\n",
       "      <td>0.0</td>\n",
       "      <td>smurf.</td>\n",
       "    </tr>\n",
       "    <tr>\n",
       "      <th>392127</th>\n",
       "      <td>0</td>\n",
       "      <td>tcp</td>\n",
       "      <td>private</td>\n",
       "      <td>S0</td>\n",
       "      <td>0</td>\n",
       "      <td>0</td>\n",
       "      <td>0</td>\n",
       "      <td>0</td>\n",
       "      <td>0</td>\n",
       "      <td>0</td>\n",
       "      <td>...</td>\n",
       "      <td>1</td>\n",
       "      <td>0.00</td>\n",
       "      <td>0.06</td>\n",
       "      <td>0.00</td>\n",
       "      <td>0.00</td>\n",
       "      <td>1.0</td>\n",
       "      <td>1.0</td>\n",
       "      <td>0.0</td>\n",
       "      <td>0.0</td>\n",
       "      <td>neptune.</td>\n",
       "    </tr>\n",
       "  </tbody>\n",
       "</table>\n",
       "<p>5 rows × 42 columns</p>\n",
       "</div>"
      ],
      "text/plain": [
       "        0     1        2   3     4    5  6  7  8  9  ...   32    33    34  \\\n",
       "22650   1   tcp     smtp  SF  1022  389  0  0  0  0  ...  175  0.64  0.02   \n",
       "5765    0   tcp     http  SF   376  285  0  0  0  0  ...  255  1.00  0.00   \n",
       "241826  0  icmp    ecr_i  SF  1032    0  0  0  0  0  ...  255  1.00  0.00   \n",
       "292391  0  icmp    ecr_i  SF  1032    0  0  0  0  0  ...  255  1.00  0.00   \n",
       "392127  0   tcp  private  S0     0    0  0  0  0  0  ...    1  0.00  0.06   \n",
       "\n",
       "          35    36   37   38   39   40        41  \n",
       "22650   0.01  0.02  0.0  0.0  0.0  0.0   normal.  \n",
       "5765    0.00  0.00  0.0  0.0  0.0  0.0   normal.  \n",
       "241826  1.00  0.00  0.0  0.0  0.0  0.0    smurf.  \n",
       "292391  1.00  0.00  0.0  0.0  0.0  0.0    smurf.  \n",
       "392127  0.00  0.00  1.0  1.0  0.0  0.0  neptune.  \n",
       "\n",
       "[5 rows x 42 columns]"
      ]
     },
     "execution_count": 2,
     "metadata": {},
     "output_type": "execute_result"
    }
   ],
   "source": [
    "# read data\n",
    "df = pd.read_csv('../data/kddcup.data_0_1_percent.csv', index_col=0)\n",
    "df.head()  # small view\n"
   ]
  },
  {
   "cell_type": "code",
   "execution_count": 3,
   "id": "sporting-thirty",
   "metadata": {},
   "outputs": [
    {
     "name": "stdout",
     "output_type": "stream",
     "text": [
      "Passing labels = ['smurf.', 'neptune.', 'normal.']\n"
     ]
    }
   ],
   "source": [
    "# filter labels\n",
    "labels = df['41']  # get labels\n",
    "label_counts = labels.value_counts()  # n-obs / label\n",
    "mask = label_counts > df.shape[0] * 0.05  # label must encompass > 5% of the data\n",
    "valid_labels = label_counts.index[mask]  # get passing labels\n",
    "print(f'Passing labels = {valid_labels.tolist()}')\n",
    "df = df[df['41'].isin(valid_labels)]\n",
    "labels = df['41']  # redefine labels\n"
   ]
  },
  {
   "cell_type": "code",
   "execution_count": 123,
   "id": "identified-terrorist",
   "metadata": {},
   "outputs": [],
   "source": [
    "# extract data\n",
    "X,y = df.copy().iloc[:,:-1].select_dtypes(['number']),df.copy()['41']\n",
    "# standardize\n",
    "X -= X.mean()\n",
    "X /= X.std()\n",
    "# remove constant columns\n",
    "X = X.dropna(axis=1)\n",
    "# reset index for categorical mapping\n",
    "X = X.reset_index().iloc[:,1:]"
   ]
  },
  {
   "cell_type": "code",
   "execution_count": 124,
   "id": "verified-coupon",
   "metadata": {},
   "outputs": [],
   "source": [
    "# set up one hot encoder\n",
    "from sklearn.preprocessing import OneHotEncoder\n",
    "ohe = OneHotEncoder()\n",
    "# add on protocol\n",
    "cats = pd.DataFrame(ohe.fit_transform(df[['1']]).toarray())\n",
    "X = X.join(cats, rsuffix='cat1')\n",
    "# add on short categorical\n",
    "cats = pd.DataFrame(ohe.fit_transform(df[['3']]).toarray())\n",
    "X = X.join(cats, rsuffix='cat2')"
   ]
  },
  {
   "cell_type": "code",
   "execution_count": 128,
   "id": "fuzzy-aquarium",
   "metadata": {},
   "outputs": [],
   "source": [
    "from sklearn.decomposition import PCA"
   ]
  },
  {
   "cell_type": "code",
   "execution_count": 129,
   "id": "legitimate-humidity",
   "metadata": {},
   "outputs": [],
   "source": [
    "pca = PCA(n_components=10, svd_solver='full', random_state=0)"
   ]
  },
  {
   "cell_type": "code",
   "execution_count": 130,
   "id": "amino-sending",
   "metadata": {},
   "outputs": [
    {
     "data": {
      "text/plain": [
       "PCA(n_components=10, random_state=0, svd_solver='full')"
      ]
     },
     "execution_count": 130,
     "metadata": {},
     "output_type": "execute_result"
    }
   ],
   "source": [
    "pca.fit(X.T)"
   ]
  },
  {
   "cell_type": "code",
   "execution_count": 131,
   "id": "freelance-heaven",
   "metadata": {},
   "outputs": [
    {
     "data": {
      "text/plain": [
       "<BarContainer object of 10 artists>"
      ]
     },
     "execution_count": 131,
     "metadata": {},
     "output_type": "execute_result"
    },
    {
     "data": {
      "image/png": "[encoded data removed]",
      "text/plain": [
       "<Figure size 480x320 with 1 Axes>"
      ]
     },
     "metadata": {
      "needs_background": "light"
     },
     "output_type": "display_data"
    }
   ],
   "source": [
    "plt.bar(range(1,11), pca.explained_variance_ratio_)"
   ]
  },
  {
   "cell_type": "code",
   "execution_count": 143,
   "id": "equal-inspiration",
   "metadata": {},
   "outputs": [
    {
     "data": {
      "text/plain": [
       "[Text(0.5, 0, 'PC1'), Text(0, 0.5, 'PC2')]"
      ]
     },
     "execution_count": 143,
     "metadata": {},
     "output_type": "execute_result"
    },
    {
     "data": {
      "image/png": "[encoded data removed]",
      "text/plain": [
       "<Figure size 400x400 with 1 Axes>"
      ]
     },
     "metadata": {
      "needs_background": "light"
     },
     "output_type": "display_data"
    }
   ],
   "source": [
    "color_dict = {'normal.':'tab:green','smurf.':'tab:blue','neptune.':'tab:purple'}\n",
    "marker_dict = {'normal.':'o','smurf.': '<','neptune.':'*'}\n",
    "fig,ax = plt.subplots(figsize=[5,5])\n",
    "for cat in color_dict:\n",
    "    mask = (df['41']==cat).values\n",
    "    ax.scatter(projection.loc[mask,'PC1'], projection.loc[mask,'PC2'], label=cat,\n",
    "               color=color_dict[cat], marker=marker_dict[cat])\n",
    "ax.legend()\n",
    "ax.tick_params(labelsize=10)\n",
    "ax.set(xlabel='PC1', ylabel='PC2')"
   ]
  },
  {
   "cell_type": "code",
   "execution_count": null,
   "id": "mexican-charlotte",
   "metadata": {},
   "outputs": [],
   "source": []
  },
  {
   "cell_type": "code",
   "execution_count": null,
   "id": "adverse-simpson",
   "metadata": {},
   "outputs": [],
   "source": []
  }
 ],
 "metadata": {
  "kernelspec": {
   "display_name": "Python 3",
   "language": "python",
   "name": "python3"
  },
  "language_info": {
   "codemirror_mode": {
    "name": "ipython",
    "version": 3
   },
   "file_extension": ".py",
   "mimetype": "text/x-python",
   "name": "python",
   "nbconvert_exporter": "python",
   "pygments_lexer": "ipython3",
   "version": "3.8.5"
  }
 },
 "nbformat": 4,
 "nbformat_minor": 5
}
